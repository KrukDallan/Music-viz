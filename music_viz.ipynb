{
 "cells": [
  {
   "cell_type": "code",
   "execution_count": 1,
   "metadata": {},
   "outputs": [
    {
     "name": "stdout",
     "output_type": "stream",
     "text": [
      "/Users/leo/Applications/Local_development/Python_development/mixed_project/.venv\n",
      "/Users/leo/Applications/Local_development/Python_development/mixed_project/.venv /opt/homebrew/opt/python@3.10/Frameworks/Python.framework/Versions/3.10\n"
     ]
    }
   ],
   "source": [
    "import os\n",
    "import sys\n",
    "from pydub import AudioSegment\n",
    "import scipy\n",
    "import numpy as np\n",
    "import matplotlib.pyplot as plt\n",
    "import time\n",
    "import ipympl\n",
    "\n",
    "# pro tip: use a venv\n",
    "print(os.environ.get(\"VIRTUAL_ENV\"))\n",
    "# they should be different, otherwise it means the venv is not active\n",
    "print(sys.prefix,sys.base_prefix)"
   ]
  },
  {
   "cell_type": "code",
   "execution_count": null,
   "metadata": {},
   "outputs": [],
   "source": [
    "'''sound = AudioSegment.from_mp3(\"path_to_mp3_file\")\n",
    "sound.export(\"output/path\", format=\"wav\")'''"
   ]
  },
  {
   "cell_type": "code",
   "execution_count": null,
   "metadata": {},
   "outputs": [],
   "source": [
    "%matplotlib widget\n",
    "import matplotlib.pyplot as plt\n",
    "from matplotlib.animation import FuncAnimation\n",
    "import numpy as np\n",
    "from scipy.io import wavfile\n",
    "from matplotlib.collections import LineCollection\n",
    "from matplotlib.colors import hsv_to_rgb\n",
    "\n",
    "sample_rate, audiotrack = wavfile.read(\"assets/piano.wav\")\n",
    "for i in range(len(audiotrack)):\n",
    "    audiotrack[i][0] = int(audiotrack[i][0]/10)\n",
    "    audiotrack[i][1] = int(audiotrack[i][1]/10)\n",
    "    \n",
    "# Convert to mono if stereo\n",
    "if audiotrack.ndim == 2:\n",
    "    audiotrack = audiotrack.mean(axis=1)\n",
    "\n",
    "time = np.linspace(0, len(audiotrack) / sample_rate, num=len(audiotrack))\n",
    "print(time)\n",
    "downsample_factor = 100\n",
    "time = time[::downsample_factor]\n",
    "audiotrack = audiotrack[::downsample_factor]\n",
    "\n",
    "fig, ax = plt.subplots()\n",
    "ax.set_xlim(time[0], time[-1]+0.5*time[-1])\n",
    "\n",
    "ax.set_ylim(audiotrack.min(), audiotrack.max())\n",
    "\n",
    "line_collection = LineCollection([], linewidths=2)\n",
    "ax.add_collection(line_collection)\n",
    "\n",
    "segments = []\n",
    "colors = []\n",
    "num_segments = (len(time) - 1)/100\n",
    "gap = 0.5\n",
    "for i in range(1, len(time)):\n",
    "    x_segment = [time[i - 1]+ gap, time[i]+ gap]\n",
    "    y_segment = [audiotrack[i - 1], audiotrack[i]]\n",
    "    segments.append([x_segment, y_segment])\n",
    "    hue = i / num_segments\n",
    "    if hue > 1.0:\n",
    "        hue = hue % 1\n",
    "    rgb_color = hsv_to_rgb([hue, 1, 1])  \n",
    "    colors.append(rgb_color)\n",
    "    gap+=0.1\n",
    "\n",
    "def update(frame):\n",
    "    line_collection.set_segments([list(zip(x, y)) for x, y in segments[:frame]])\n",
    "    line_collection.set_color(colors[:frame])\n",
    "    line_collection.set_linewidth(5.0)\n",
    "    return line_collection,\n",
    "\n",
    "anim = FuncAnimation(fig, update, frames=len(segments), blit=True, interval=20)\n",
    "plt.show()"
   ]
  }
 ],
 "metadata": {
  "kernelspec": {
   "display_name": ".venv",
   "language": "python",
   "name": "python3"
  },
  "language_info": {
   "codemirror_mode": {
    "name": "ipython",
    "version": 3
   },
   "file_extension": ".py",
   "mimetype": "text/x-python",
   "name": "python",
   "nbconvert_exporter": "python",
   "pygments_lexer": "ipython3",
   "version": "3.10.14"
  }
 },
 "nbformat": 4,
 "nbformat_minor": 2
}
